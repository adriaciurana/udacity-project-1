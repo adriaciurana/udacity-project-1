{
 "cells": [
  {
   "cell_type": "markdown",
   "metadata": {},
   "source": [
    "# Navigation from pixels\n",
    "---\n",
    "\n",
    "In this notebook, the navigation project is presented. \n",
    "\n",
    "The proposed problem is based on getting an agent to learn to determine which bananas are good and which bad.\n",
    "For this we have a 84x84 rgb image (state), our task will be to find a function that maps the state in the best possible action.\n",
    "\n",
    "To carry out this mapping, it is proposed to use a pretrained mobilenet_v2 (with imagenet)."
   ]
  },
  {
   "cell_type": "markdown",
   "metadata": {},
   "source": [
    "All the code to facilitate the organization is in the **code** folder. Where we found:\n",
    "* **agent.py**: The proposed agent to solve the navigation problem.\n",
    "* **config.py**: Configuration of the hyperparameters of the learning process.\n",
    "* **models.py**: The proposed neural networks architectures."
   ]
  },
  {
   "cell_type": "code",
   "execution_count": 1,
   "metadata": {},
   "outputs": [
    {
     "name": "stdout",
     "output_type": "stream",
     "text": [
      "\u001b[33mDEPRECATION: Python 2.7 will reach the end of its life on January 1st, 2020. Please upgrade your Python as Python 2.7 won't be maintained after that date. A future version of pip will drop support for Python 2.7.\u001b[0m\n",
      "Requirement already satisfied: lycon in /home/totolia/anaconda2/lib/python2.7/site-packages (0.2.0)\n",
      "Requirement already satisfied: numpy in /home/totolia/anaconda2/lib/python2.7/site-packages (from lycon) (1.13.3)\n"
     ]
    }
   ],
   "source": [
    "# Much faster than opencv imread\n",
    "!pip install lycon"
   ]
  },
  {
   "cell_type": "markdown",
   "metadata": {},
   "source": [
    "### Project dependences"
   ]
  },
  {
   "cell_type": "code",
   "execution_count": 1,
   "metadata": {
    "collapsed": true
   },
   "outputs": [],
   "source": [
    "# Import all dependences\n",
    "import os\n",
    "import glob\n",
    "import torch\n",
    "import lycon\n",
    "import numpy as np\n",
    "from collections import deque\n",
    "import matplotlib.pyplot as plt\n",
    "%matplotlib inline\n",
    "\n",
    "# Unity env\n",
    "from unityagents import UnityEnvironment\n",
    "\n",
    "# Project dependences\n",
    "from code.config import Config\n",
    "Config.BATCH_SIZE = 256\n",
    "from code.agent import Agent\n",
    "from code.model import PixelBananasNet"
   ]
  },
  {
   "cell_type": "markdown",
   "metadata": {},
   "source": [
    "### Init the Unity environment"
   ]
  },
  {
   "cell_type": "code",
   "execution_count": 2,
   "metadata": {},
   "outputs": [
    {
     "name": "stderr",
     "output_type": "stream",
     "text": [
      "INFO:unityagents:\n",
      "'Academy' started successfully!\n",
      "Unity Academy name: Academy\n",
      "        Number of Brains: 1\n",
      "        Number of External Brains : 1\n",
      "        Lesson number : 0\n",
      "        Reset Parameters :\n",
      "\t\t\n",
      "Unity brain name: BananaBrain\n",
      "        Number of Visual Observations (per agent): 1\n",
      "        Vector Observation space type: continuous\n",
      "        Vector Observation space size (per agent): 0\n",
      "        Number of stacked Vector Observation: 1\n",
      "        Vector Action space type: discrete\n",
      "        Vector Action space size (per agent): 4\n",
      "        Vector Action descriptions: , , , \n"
     ]
    }
   ],
   "source": [
    "# Get the unity environment\n",
    "env = UnityEnvironment(file_name=Config.BANANA_PIXELS_ENV_PATH)\n",
    "\n",
    "# Select the default brain\n",
    "brain_name = env.brain_names[0]\n",
    "brain = env.brains[brain_name]\n",
    "\n",
    "# reset the environment\n",
    "env_info = env.reset(train_mode=True)[brain_name]"
   ]
  },
  {
   "cell_type": "markdown",
   "metadata": {},
   "source": [
    "### Display information about the problem:"
   ]
  },
  {
   "cell_type": "code",
   "execution_count": 3,
   "metadata": {},
   "outputs": [
    {
     "name": "stdout",
     "output_type": "stream",
     "text": [
      "Number of agents: 1\n",
      "Number of actions: 4\n",
      "States look like:\n"
     ]
    },
    {
     "data": {
      "image/png": "[encoded data removed]",
      "text/plain": [
       "<Figure size 432x288 with 1 Axes>"
      ]
     },
     "metadata": {
      "needs_background": "light"
     },
     "output_type": "display_data"
    },
    {
     "name": "stdout",
     "output_type": "stream",
     "text": [
      "States have shape: (1, 84, 84, 3)\n"
     ]
    }
   ],
   "source": [
    "# reset the environment\n",
    "env_info = env.reset(train_mode=True)[brain_name]\n",
    "\n",
    "# number of agents in the environment\n",
    "print('Number of agents:', len(env_info.agents))\n",
    "\n",
    "# number of actions\n",
    "action_size = brain.vector_action_space_size\n",
    "print('Number of actions:', action_size)\n",
    "\n",
    "# examine the state space \n",
    "state = env_info.visual_observations[0]\n",
    "print('States look like:')\n",
    "plt.imshow(np.squeeze(state))\n",
    "plt.show()\n",
    "state_size = state.shape\n",
    "print('States have shape:', state.shape)"
   ]
  },
  {
   "cell_type": "markdown",
   "metadata": {},
   "source": [
    "### Init the Agent\n",
    "The proposed agent is prepared to allow as input a pretrained mobilenet_v2 architecture.\n",
    "\n",
    "The network proposed for this exercise is called **PixelBananasNet**, also with funny name but MORE powerful than the previour BananasNet it will allow us to navigate autonomously using rgb 84x84 camera through the scene and get our precious high resolution bananas! Mmmmm ..."
   ]
  },
  {
   "cell_type": "code",
   "execution_count": 4,
   "metadata": {
    "collapsed": true
   },
   "outputs": [],
   "source": [
    "agent = Agent(PixelBananasNet, state_size[1], action_size, alpha=.5)\n",
    "\n",
    "# Some problems produces learning crashes\n",
    "#last_weights_path = sorted(glob.glob(os.path.join(Config.CHECKPOINT_PIXELS_BANANA_PATH, \"*.pth\")), key=lambda f: os.path.getmtime(f), reverse=True)[0]\n",
    "#agent.load(last_weights_path)"
   ]
  },
  {
   "cell_type": "markdown",
   "metadata": {},
   "source": [
    "### Main loop\n",
    "In order to monitoring the learning proces, the following function controls the workflow of the agent."
   ]
  },
  {
   "cell_type": "code",
   "execution_count": 5,
   "metadata": {
    "collapsed": true
   },
   "outputs": [],
   "source": [
    "def normalize(image):\n",
    "    mean = [0.485, 0.456, 0.406]\n",
    "    std = [0.229, 0.224, 0.225]\n",
    "    return np.stack(((image[..., 0] - mean[0]) / std[0],\n",
    "                     (image[..., 1] - mean[1]) / std[1],\n",
    "                     (image[..., 2] - mean[2]) / std[2]), axis=-1)"
   ]
  },
  {
   "cell_type": "code",
   "execution_count": 6,
   "metadata": {
    "collapsed": true
   },
   "outputs": [],
   "source": [
    "def dqn(n_episodes=10000, eps_start=1.0, eps_end=0.01, eps_decay=0.995):\n",
    "    scores = []\n",
    "    scores_window = deque(maxlen=100)\n",
    "    eps = eps_start\n",
    "    \n",
    "    for i_episode in range(1, n_episodes + 1):\n",
    "        env_info = env.reset(train_mode=True)[brain_name]\n",
    "        state = normalize(lycon.resize(env_info.visual_observations[0][0], \n",
    "                             height=96, \n",
    "                             width=96, \n",
    "                             interpolation=lycon.Interpolation.NEAREST).astype(np.float32)).transpose(2, 0, 1)\n",
    "        score = 0\n",
    "        while True:\n",
    "            action = agent.act(state, eps)\n",
    "            env_info = env.step(action)[brain_name]\n",
    "            next_state = normalize(lycon.resize(env_info.visual_observations[0][0], \n",
    "                                      height=96, \n",
    "                                      width=96, \n",
    "                                      interpolation=lycon.Interpolation.NEAREST).astype(np.float32)).transpose(2, 0, 1)\n",
    "            reward = env_info.rewards[0]\n",
    "            done = env_info.local_done[0]\n",
    "            agent.step(state, \n",
    "                       np.array([action]), \n",
    "                       np.array([reward]), \n",
    "                       next_state, \n",
    "                       np.array([done]))\n",
    "            state = next_state\n",
    "            score += reward\n",
    "            if done:\n",
    "                break \n",
    "        \n",
    "        scores_window.append(score)\n",
    "        scores.append(score)\n",
    "        eps = max(eps_end, eps_decay*eps)\n",
    "        \n",
    "        print('\\rEpisode {}\\tAverage Score: {:.2f}'.format(i_episode, np.mean(scores_window)), end=\"\")\n",
    "        \n",
    "        if i_episode % 100 == 0:\n",
    "            print('\\rEpisode {}\\tAverage Score: {:.2f}'.format(i_episode, np.mean(scores_window)))\n",
    "            agent.save(os.path.join(Config.CHECKPOINT_PIXELS_BANANA_PATH, 'checkpoint_%d.pth') % (i_episode, ))\n",
    "            \n",
    "    return scores"
   ]
  },
  {
   "cell_type": "code",
   "execution_count": null,
   "metadata": {},
   "outputs": [
    {
     "name": "stdout",
     "output_type": "stream",
     "text": [
      "Episode 100\tAverage Score: 0.28\n",
      "Episode 200\tAverage Score: 0.06\n",
      "Episode 300\tAverage Score: 0.14\n",
      "Episode 400\tAverage Score: 0.29\n",
      "Episode 500\tAverage Score: 0.76\n",
      "Episode 600\tAverage Score: 0.88\n",
      "Episode 700\tAverage Score: 0.88\n",
      "Episode 800\tAverage Score: 1.17\n",
      "Episode 900\tAverage Score: 1.52\n",
      "Episode 1000\tAverage Score: 2.36\n",
      "Episode 1100\tAverage Score: 2.82\n",
      "Episode 1200\tAverage Score: 3.03\n",
      "Episode 1300\tAverage Score: 3.66\n",
      "Episode 1400\tAverage Score: 4.72\n",
      "Episode 1500\tAverage Score: 4.37\n",
      "Episode 1600\tAverage Score: 4.62\n",
      "Episode 1700\tAverage Score: 4.91\n",
      "Episode 1800\tAverage Score: 5.43\n",
      "Episode 1900\tAverage Score: 5.12\n",
      "Episode 2000\tAverage Score: 5.37\n",
      "Episode 2014\tAverage Score: 5.59"
     ]
    }
   ],
   "source": [
    "# ¡Execute please! ¡I want bananas!\n",
    "scores = dqn()"
   ]
  },
  {
   "cell_type": "markdown",
   "metadata": {},
   "source": [
    "### Plot learning curve"
   ]
  },
  {
   "cell_type": "code",
   "execution_count": null,
   "metadata": {
    "collapsed": true
   },
   "outputs": [],
   "source": [
    "fig = plt.figure()\n",
    "ax = fig.add_subplot(111)\n",
    "plt.plot(np.arange(len(scores)), scores)\n",
    "plt.ylabel('Score')\n",
    "plt.xlabel('Episode #')\n",
    "plt.show()"
   ]
  },
  {
   "cell_type": "markdown",
   "metadata": {},
   "source": [
    "### Play with the last checkpoint\n",
    "![Banana image](doc/banana.jpg)"
   ]
  },
  {
   "cell_type": "code",
   "execution_count": null,
   "metadata": {
    "collapsed": true
   },
   "outputs": [],
   "source": [
    "model_path = sorted(glob.glob(os.path.join(Config.MODEL_PIXELS_BANANA_PATH, \"*.pth\")), key=lambda f: os.path.getmtime(f), reverse=True)[0]\n",
    "#last_weights_path = sorted(glob.glob(os.path.join(Config.CHECKPOINT_PIXELS_BANANA_PATH, \"*.pth\")), key=lambda f: os.path.getmtime(f), reverse=True)[0]\n",
    "agent.load(model_path)\n",
    "\n",
    "env_info = env.reset(train_mode=False)[brain_name]\n",
    "state = normalize(lycon.resize(env_info.visual_observations[0][0], \n",
    "                     height=96, \n",
    "                     width=96, \n",
    "                     interpolation=lycon.Interpolation.NEAREST).astype(np.float32)).transpose(2, 0, 1)\n",
    "score = 0\n",
    "while True:\n",
    "    action = agent.act(state, eps)\n",
    "    env_info = env.step(action)[brain_name]\n",
    "    next_state = normalize(lycon.resize(env_info.visual_observations[0][0], \n",
    "                              height=96, \n",
    "                              width=96, \n",
    "                              interpolation=lycon.Interpolation.NEAREST).astype(np.float32)).transpose(2, 0, 1)\n",
    "    reward = env_info.rewards[0]\n",
    "    done = env_info.local_done[0]\n",
    "    score += reward\n",
    "    state = next_state\n",
    "    if done:\n",
    "        break\n",
    "    \n",
    "print(\"Score: {}\".format(score))"
   ]
  }
 ],
 "metadata": {
  "kernelspec": {
   "display_name": "Python [conda env:drlnd]",
   "language": "python",
   "name": "conda-env-drlnd-py"
  },
  "language_info": {
   "codemirror_mode": {
    "name": "ipython",
    "version": 3
   },
   "file_extension": ".py",
   "mimetype": "text/x-python",
   "name": "python",
   "nbconvert_exporter": "python",
   "pygments_lexer": "ipython3",
   "version": "3.6.8"
  }
 },
 "nbformat": 4,
 "nbformat_minor": 2
}
